{
 "cells": [
  {
   "cell_type": "markdown",
   "id": "b2198326-3b1f-427d-b0f6-00c496b4a358",
   "metadata": {},
   "source": [
    "#Q1. Is there any difference in the data type of variables list_ and array_list? If there is then write a code to print the data types of both the variables.\n"
   ]
  },
  {
   "cell_type": "code",
   "execution_count": 27,
   "id": "bcb493e3-ac3e-4fbe-b00a-a8f7e0448bea",
   "metadata": {},
   "outputs": [],
   "source": [
    "\n",
    "import numpy as np\n",
    "list_ = [ '1' , '2' , '3' , '4' , '5' ]\n",
    "array_list = np.array(object = list_)"
   ]
  },
  {
   "cell_type": "code",
   "execution_count": 28,
   "id": "ed3e36b6-01fd-4dbe-9eca-6a217ce6c556",
   "metadata": {},
   "outputs": [
    {
     "name": "stdout",
     "output_type": "stream",
     "text": [
      "Type of list_ Variable :  <class 'list'>\n",
      "Type of array_list Variable :  <class 'numpy.ndarray'>\n",
      "Data Type of elements in array_list Variable :  <U1\n"
     ]
    }
   ],
   "source": [
    "print(\"Type of list_ Variable : \",type(list_))\n",
    "print(\"Type of array_list Variable : \",type(array_list))\n",
    "print(\"Data Type of elements in array_list Variable : \",array_list.dtype)"
   ]
  },
  {
   "cell_type": "code",
   "execution_count": 29,
   "id": "2a3d2650-90dc-4269-b9f1-ed5801b3e36b",
   "metadata": {},
   "outputs": [],
   "source": [
    "#Q2. Write a code to print the data type of each and every element of both the variables list_ and array_list."
   ]
  },
  {
   "cell_type": "code",
   "execution_count": 30,
   "id": "de5c35e6-3d23-4d21-a262-4985c11289bc",
   "metadata": {},
   "outputs": [
    {
     "name": "stdout",
     "output_type": "stream",
     "text": [
      "Type of list_ 1 Variable : <class 'str'>\n",
      "Type of list_ 2 Variable : <class 'str'>\n",
      "Type of list_ 3 Variable : <class 'str'>\n",
      "Type of list_ 4 Variable : <class 'str'>\n",
      "Type of list_ 5 Variable : <class 'str'>\n",
      "Type of array_list 1 Variable : <class 'numpy.str_'>\n",
      "Type of array_list 2 Variable : <class 'numpy.str_'>\n",
      "Type of array_list 3 Variable : <class 'numpy.str_'>\n",
      "Type of array_list 4 Variable : <class 'numpy.str_'>\n",
      "Type of array_list 5 Variable : <class 'numpy.str_'>\n"
     ]
    }
   ],
   "source": [
    "for i in list_:\n",
    "    print(f\"Type of list_ {i} Variable : {type(i)}\")\n",
    "    \n",
    "for j in array_list:\n",
    "    print(f\"Type of array_list {j} Variable : {type(j)}\")"
   ]
  },
  {
   "cell_type": "markdown",
   "id": "3f79ab25-bade-440e-8d68-2628ee624691",
   "metadata": {},
   "source": [
    "#Q3. Considering the following changes in the variable, array_list: array_list = np.array(object = list_, dtype = int) Will there be any difference in the data type of the elements present in both the variables, list_ and array_list? If so then print the data types of each and every element present in both the variables, list_ and array_list.\n",
    "#Consider the below code to answer further questions:\n",
    "import numpy as np\n",
    "num_list = [ [ 1 , 2 , 3 ] , [ 4 , 5 , 6 ] ]\n",
    "num_array = np.array(object = num_list)\n",
    "\n"
   ]
  },
  {
   "cell_type": "code",
   "execution_count": 31,
   "id": "bc2b76f6-a683-43e4-9227-4e90a797ce89",
   "metadata": {},
   "outputs": [],
   "source": [
    "import numpy as np\n",
    "num_list = [ [ 1 , 2 , 3 ] , [ 4 , 5 , 6 ] ]\n",
    "num_array = np.array(object = num_list)\n",
    "array_list = np.array(object=list_,dtype=int)"
   ]
  },
  {
   "cell_type": "code",
   "execution_count": 32,
   "id": "5b7c0ee7-b5d3-468a-98a7-74380ab80a00",
   "metadata": {},
   "outputs": [
    {
     "name": "stdout",
     "output_type": "stream",
     "text": [
      "Type of list_ 1 Variable : <class 'str'>\n",
      "Type of list_ 2 Variable : <class 'str'>\n",
      "Type of list_ 3 Variable : <class 'str'>\n",
      "Type of list_ 4 Variable : <class 'str'>\n",
      "Type of list_ 5 Variable : <class 'str'>\n",
      "Type of array_list 1 Variable : <class 'numpy.int64'>\n",
      "Type of array_list 2 Variable : <class 'numpy.int64'>\n",
      "Type of array_list 3 Variable : <class 'numpy.int64'>\n",
      "Type of array_list 4 Variable : <class 'numpy.int64'>\n",
      "Type of array_list 5 Variable : <class 'numpy.int64'>\n"
     ]
    }
   ],
   "source": [
    "for i in list_:\n",
    "    print(f\"Type of list_ {i} Variable : {type(i)}\")\n",
    "    \n",
    "for j in array_list:\n",
    "    print(f\"Type of array_list {j} Variable : {type(j)}\")"
   ]
  },
  {
   "cell_type": "markdown",
   "id": "9abcc331-b139-432e-867f-b72dcf25ef9e",
   "metadata": {},
   "source": [
    "Q4. Write a code to find the following characteristics of variable, num_array:\n",
    "(i) shape\n",
    "(ii) size"
   ]
  },
  {
   "cell_type": "code",
   "execution_count": 33,
   "id": "8416c5f7-4db6-42b5-ab35-d26c99d4fc29",
   "metadata": {},
   "outputs": [
    {
     "data": {
      "text/plain": [
       "array([[1, 2, 3],\n",
       "       [4, 5, 6]])"
      ]
     },
     "execution_count": 33,
     "metadata": {},
     "output_type": "execute_result"
    }
   ],
   "source": [
    "\n",
    "num_array"
   ]
  },
  {
   "cell_type": "code",
   "execution_count": 34,
   "id": "3a8c0553-d98c-498c-a08e-746c2cb369c2",
   "metadata": {},
   "outputs": [
    {
     "data": {
      "text/plain": [
       "(2, 3)"
      ]
     },
     "execution_count": 34,
     "metadata": {},
     "output_type": "execute_result"
    }
   ],
   "source": [
    "num_array.shape\n"
   ]
  },
  {
   "cell_type": "code",
   "execution_count": 35,
   "id": "ed1ea207-5295-40f4-976f-3cc6e0abb993",
   "metadata": {},
   "outputs": [
    {
     "data": {
      "text/plain": [
       "6"
      ]
     },
     "execution_count": 35,
     "metadata": {},
     "output_type": "execute_result"
    }
   ],
   "source": [
    "num_array.size"
   ]
  },
  {
   "cell_type": "markdown",
   "id": "81054b7d-b0f6-4760-b00c-1fea86e66b27",
   "metadata": {},
   "source": [
    "Q5. Write a code to create numpy array of 3*3 matrix containing zeros only, using a numpy array creation function."
   ]
  },
  {
   "cell_type": "code",
   "execution_count": 36,
   "id": "9fc25e69-f93d-4d92-9367-1107488b55b1",
   "metadata": {},
   "outputs": [],
   "source": [
    "arr = np.zeros((3,3))"
   ]
  },
  {
   "cell_type": "code",
   "execution_count": 37,
   "id": "e6b6f155-8507-41e3-8698-64997b57dcc1",
   "metadata": {},
   "outputs": [
    {
     "data": {
      "text/plain": [
       "array([[0., 0., 0.],\n",
       "       [0., 0., 0.],\n",
       "       [0., 0., 0.]])"
      ]
     },
     "execution_count": 37,
     "metadata": {},
     "output_type": "execute_result"
    }
   ],
   "source": [
    "\n",
    "arr"
   ]
  },
  {
   "cell_type": "code",
   "execution_count": 38,
   "id": "31c692dc-550b-40e2-a531-4a16f32833ca",
   "metadata": {},
   "outputs": [
    {
     "data": {
      "text/plain": [
       "9"
      ]
     },
     "execution_count": 38,
     "metadata": {},
     "output_type": "execute_result"
    }
   ],
   "source": [
    "\n",
    "arr.size"
   ]
  },
  {
   "cell_type": "code",
   "execution_count": 39,
   "id": "06179d61-ceab-4f42-9b8e-ec49d97cf2d0",
   "metadata": {},
   "outputs": [
    {
     "data": {
      "text/plain": [
       "(3, 3)"
      ]
     },
     "execution_count": 39,
     "metadata": {},
     "output_type": "execute_result"
    }
   ],
   "source": [
    "arr.shape"
   ]
  },
  {
   "cell_type": "code",
   "execution_count": 40,
   "id": "aab086a1-db21-4b76-b790-5b52b828d5d2",
   "metadata": {},
   "outputs": [],
   "source": [
    "#Q6. Create an identity matrix of shape (5,5) using numpy functions?"
   ]
  },
  {
   "cell_type": "code",
   "execution_count": 41,
   "id": "d0d1a889-77b8-4492-b9ae-7121781481cd",
   "metadata": {},
   "outputs": [],
   "source": [
    "\n",
    "arr1 = np.eye(5)"
   ]
  },
  {
   "cell_type": "code",
   "execution_count": 42,
   "id": "b1dceddc-7d43-4b21-b858-17638c91cfef",
   "metadata": {},
   "outputs": [
    {
     "data": {
      "text/plain": [
       "array([[1., 0., 0., 0., 0.],\n",
       "       [0., 1., 0., 0., 0.],\n",
       "       [0., 0., 1., 0., 0.],\n",
       "       [0., 0., 0., 1., 0.],\n",
       "       [0., 0., 0., 0., 1.]])"
      ]
     },
     "execution_count": 42,
     "metadata": {},
     "output_type": "execute_result"
    }
   ],
   "source": [
    "\n",
    "arr1"
   ]
  },
  {
   "cell_type": "code",
   "execution_count": 43,
   "id": "44a0cdbc-fe29-41a4-8816-b33b9982442d",
   "metadata": {},
   "outputs": [
    {
     "data": {
      "text/plain": [
       "(5, 5)"
      ]
     },
     "execution_count": 43,
     "metadata": {},
     "output_type": "execute_result"
    }
   ],
   "source": [
    "arr1.shape"
   ]
  },
  {
   "cell_type": "code",
   "execution_count": 44,
   "id": "b82cda36-0028-4581-b572-bccec2ddab62",
   "metadata": {},
   "outputs": [
    {
     "data": {
      "text/plain": [
       "25"
      ]
     },
     "execution_count": 44,
     "metadata": {},
     "output_type": "execute_result"
    }
   ],
   "source": [
    "arr1.size"
   ]
  },
  {
   "cell_type": "code",
   "execution_count": null,
   "id": "78dfc7d3-e46b-4dbd-b5eb-877baeee5722",
   "metadata": {},
   "outputs": [],
   "source": []
  }
 ],
 "metadata": {
  "kernelspec": {
   "display_name": "Python 3 (ipykernel)",
   "language": "python",
   "name": "python3"
  },
  "language_info": {
   "codemirror_mode": {
    "name": "ipython",
    "version": 3
   },
   "file_extension": ".py",
   "mimetype": "text/x-python",
   "name": "python",
   "nbconvert_exporter": "python",
   "pygments_lexer": "ipython3",
   "version": "3.10.8"
  }
 },
 "nbformat": 4,
 "nbformat_minor": 5
}
